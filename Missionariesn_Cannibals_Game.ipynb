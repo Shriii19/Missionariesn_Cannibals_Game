{
 "cells": [
  {
   "cell_type": "markdown",
   "metadata": {
    "id": "z8gZvxHLuJ8o"
   },
   "source": [
    "Defining variables initially:\n",
    "1. Define variable boat_side as 'Right' initially.\n",
    "2. Create numeric variables for number of missionaries and cannibals\n",
    "   on the right and left side. So there are 3 missionaries and cannibals on right side and 0 on the left side.\n",
    "3. So total number of variables is 5.<br>\n",
    "Example:\n",
    "`boat_side, missionaries_on_right, cannibals_on_right, missionaries_on_left, cannibals_on_left`\n"
   ]
  },
  {
   "cell_type": "code",
   "execution_count": null,
   "metadata": {
    "id": "cuGh2lbkuJ8p"
   },
   "outputs": [],
   "source": [
    "#### Your code ####\n",
    "\n",
    "boat_side = 'Right left'\n",
    "missionaries_on_right = 3\n",
    "cannibals_on_right = 3\n",
    "missionaries_on_left = 0\n",
    "cannibals_on_left = 0"
   ]
  },
  {
   "cell_type": "markdown",
   "metadata": {
    "id": "2pY0Xb42uJ8r"
   },
   "source": [
    "Printing in a stylish manner like this<br>\n",
    "\n",
    "M = 0 C = 0  |-----B|  M = 3 C = 3<br>\n",
    "\n",
    "Make sure to not hardcode all values."
   ]
  },
  {
   "cell_type": "code",
   "execution_count": null,
   "metadata": {
    "colab": {
     "base_uri": "https://localhost:8080/"
    },
    "id": "acrRvn7AuJ8s",
    "outputId": "78d712cb-c37d-41a4-c2ce-eeb2a82494fc"
   },
   "outputs": [
    {
     "name": "stdout",
     "output_type": "stream",
     "text": [
      "M = 0 C = 0|-----B|M = 3 C = 3\n"
     ]
    }
   ],
   "source": [
    "#### Your code ####\n",
    "print('M = '+str(missionaries_on_left) +' C = ' + str(cannibals_on_left) + '|-----B|' + 'M = ' + str(missionaries_on_right) + ' C = ' +str(cannibals_on_right))"
   ]
  },
  {
   "cell_type": "markdown",
   "metadata": {
    "id": "N8apQPL2uJ8s"
   },
   "source": [
    "## Lesson 2"
   ]
  },
  {
   "cell_type": "markdown",
   "metadata": {
    "id": "rce-px9MuJ8s"
   },
   "source": [
    "Take input from user for deciding number of missionaries and cannibals.<br>\n",
    "Store inputs in 2 variables: `missionaries, cannibals`"
   ]
  },
  {
   "cell_type": "code",
   "execution_count": null,
   "metadata": {
    "colab": {
     "base_uri": "https://localhost:8080/"
    },
    "id": "3-JrWVAZuJ8t",
    "outputId": "3d2797df-86fa-40fd-c8ea-030138ba4188"
   },
   "outputs": [
    {
     "name": "stdout",
     "output_type": "stream",
     "text": [
      "ENTER THE NUMBER OF MISSIONARIES ON BOAT: 1\n",
      "ENTER THE NUMBER OF CANNIBALS ON BOAT: 1\n"
     ]
    }
   ],
   "source": [
    "### Your code ###\n",
    "missionaries = int(input('ENTER THE NUMBER OF MISSIONARIES ON BOAT: '))\n",
    "cannibals = int(input('ENTER THE NUMBER OF CANNIBALS ON BOAT: '))"
   ]
  },
  {
   "cell_type": "code",
   "execution_count": null,
   "metadata": {
    "id": "CKi4YA4fuJ8u"
   },
   "outputs": [],
   "source": [
    "### Your code ###\n",
    "\n",
    "if (missionaries + cannibals)<0 or (missionaries+cannibals)>2:\n",
    "  print('Invalid Move 1')"
   ]
  },
  {
   "cell_type": "markdown",
   "metadata": {
    "id": "KcFmhp-cuJ8u"
   },
   "source": [
    "Add if else statement to check the value of 'boat_side' variable"
   ]
  },
  {
   "cell_type": "code",
   "execution_count": null,
   "metadata": {
    "colab": {
     "base_uri": "https://localhost:8080/"
    },
    "id": "Y5Wm7m42uJ8u",
    "outputId": "af73ffb7-9066-4a42-f9d7-6c52a4b1ebc2"
   },
   "outputs": [
    {
     "name": "stdout",
     "output_type": "stream",
     "text": [
      "Left\n"
     ]
    }
   ],
   "source": [
    "### Your code ###\n",
    "if boat_side == 'Right':\n",
    "  print('Right')\n",
    "else:\n",
    "  print('Left')"
   ]
  },
  {
   "cell_type": "markdown",
   "metadata": {
    "id": "WkWGM1xyuJ8v"
   },
   "source": [
    "####  if statement for right side\n",
    "Now check if count for missionaries or cannibals on the right\n",
    "        side are less than the number that you entered for\n",
    "        adding to boat if so print \"Invalid move\"."
   ]
  },
  {
   "cell_type": "code",
   "execution_count": null,
   "metadata": {
    "id": "_fE2ND_MuJ8v"
   },
   "outputs": [],
   "source": [
    "### Your code ###\n",
    "if (missionaries_on_right < missionaries) or (cannibals_on_right < cannibals):\n",
    "  print('Invalid Move 2')"
   ]
  },
  {
   "cell_type": "markdown",
   "metadata": {
    "id": "08ffgyxduJ8v"
   },
   "source": [
    " Now when boad is on the right side after adding\n",
    "    missionaries and cannibles in th boat they will\n",
    "    be reduced from the right side"
   ]
  },
  {
   "cell_type": "code",
   "execution_count": null,
   "metadata": {
    "id": "8HjNLyLEuJ8w"
   },
   "outputs": [],
   "source": [
    "### Your code ###\n",
    "cannibals_on_right -= cannibals  # Same as (cannibals_on_right = cannibals_on_right - cannibals)\n",
    "missionaries_on_right -= missionaries # Same as (missionaries_on_right = missionaries_on_right - missionaries)\n",
    "cannibals_on_left += cannibals # Same as (cannibals_on_left = cannibals_on_left + cannibals)\n",
    "missionaries_on_left += missionaries # Same as (missionaries_on_left = missionaries_on_left + missionaries)"
   ]
  },
  {
   "cell_type": "markdown",
   "metadata": {
    "id": "AooZQoZbuJ8w"
   },
   "source": [
    "Similarly on the left side count for number of\n",
    "        missionaries and cannibals will increase."
   ]
  },
  {
   "cell_type": "code",
   "execution_count": null,
   "metadata": {
    "colab": {
     "base_uri": "https://localhost:8080/"
    },
    "id": "Q238NcLRuJ8w",
    "outputId": "1b7e6664-7253-4e6d-f548-cc152b6c56a7"
   },
   "outputs": [
    {
     "name": "stdout",
     "output_type": "stream",
     "text": [
      "M = 2 C = 2|B-----|M = 1 C = 1\n"
     ]
    }
   ],
   "source": [
    "### Your code ###\n",
    "print('M = '+str(missionaries_on_left) +' C = ' + str(cannibals_on_left) + '|B-----|' + 'M = ' + str(missionaries_on_right) + ' C = ' +str(cannibals_on_right))\n",
    "boat_side = 'Left'"
   ]
  },
  {
   "cell_type": "markdown",
   "metadata": {
    "id": "AXSMcQILuJ8w"
   },
   "source": [
    "Display your game board in the same format as above like<br>\n",
    "M = 1 C = 1  |B-----|  M = 2 C = 2<br>\n",
    "Check the side of the Boat!!"
   ]
  },
  {
   "cell_type": "code",
   "execution_count": null,
   "metadata": {
    "colab": {
     "base_uri": "https://localhost:8080/"
    },
    "id": "U60ha75fuJ8x",
    "outputId": "c5af2ab2-48ee-4a8d-d866-166131b19cfa"
   },
   "outputs": [
    {
     "name": "stdout",
     "output_type": "stream",
     "text": [
      "Left\n"
     ]
    }
   ],
   "source": [
    "### Your code ###\n",
    "if boat_side == 'Left':\n",
    "  print('Left')\n",
    "else:\n",
    "  print('Right')"
   ]
  },
  {
   "cell_type": "markdown",
   "metadata": {
    "id": "4rc8e-_MuJ8x"
   },
   "source": [
    "####  if statement for left side\n",
    "Now check if count for missionaries or cannibals on the left\n",
    "        side are less than the number that you entered for\n",
    "        adding to boat if so print \"Invalid move\"."
   ]
  },
  {
   "cell_type": "code",
   "execution_count": null,
   "metadata": {
    "id": "71W5tqcfuJ8x"
   },
   "outputs": [],
   "source": [
    "### Your code ###\n",
    "if (missionaries_on_left < missionaries) or (cannibals_on_left < cannibals):\n",
    "  print('Invalid Move 2')"
   ]
  },
  {
   "cell_type": "markdown",
   "metadata": {
    "id": "jadr7ICfuJ8y"
   },
   "source": [
    " Now when boad is on the left side after adding\n",
    "    missionaries and cannibles in th boat they will\n",
    "    be reduced from the left side"
   ]
  },
  {
   "cell_type": "code",
   "execution_count": null,
   "metadata": {
    "id": "-ojHFuo0uJ8y"
   },
   "outputs": [],
   "source": [
    "### Your code ###\n",
    "cannibals_on_left -= cannibals\n",
    "missionaries_on_left -= missionaries\n",
    "\n",
    "cannibals_on_right += cannibals\n",
    "missionaries_on_right += missionaries"
   ]
  },
  {
   "cell_type": "markdown",
   "metadata": {
    "id": "FyWmiEfiuJ8y"
   },
   "source": [
    "Similarly on the right side count for number of\n",
    "        missionaries and cannibals will increase."
   ]
  },
  {
   "cell_type": "code",
   "execution_count": null,
   "metadata": {
    "colab": {
     "base_uri": "https://localhost:8080/"
    },
    "id": "9vRRhUMuuJ8y",
    "outputId": "36bb7d5c-31e8-4255-f57f-05db481ce776"
   },
   "outputs": [
    {
     "name": "stdout",
     "output_type": "stream",
     "text": [
      "M = 1 C = 1|-----B|M = 2 C = 2\n"
     ]
    }
   ],
   "source": [
    "### Your code ###\n",
    "print('M = '+str(missionaries_on_left) +' C = ' + str(cannibals_on_left) + '|-----B|' + 'M = ' + str(missionaries_on_right) + ' C = ' +str(cannibals_on_right))\n",
    "boat_side = 'Right'"
   ]
  },
  {
   "cell_type": "markdown",
   "metadata": {
    "id": "Yu4AiuyjuJ8z"
   },
   "source": [
    "Display your game board in the same format as above like<br>\n",
    "M = 0 C = 0  |-----B|  M = 3 C = 3<br>\n",
    "Check the side of the Boat!!"
   ]
  },
  {
   "cell_type": "markdown",
   "metadata": {
    "id": "BIHZaubJuJ8z"
   },
   "source": [
    "### Flow of the combined code\n",
    "Add your code in the flow gicen below"
   ]
  },
  {
   "cell_type": "markdown",
   "metadata": {
    "id": "EXc4zAKZuJ8z"
   },
   "source": [
    "if boat_side == \"Right\":\n",
    "    Inside the scope of if statement for right side\n",
    "    \n",
    "```\n",
    "    Now check if count for missionaries or cannibals on the right\n",
    "    side are less than the number that you entered for\n",
    "    adding to boat if not print \"Invalid move\".\n",
    "        \n",
    "```   \n",
    "        \n",
    "```\n",
    "    Now when boad is on the right side after adding\n",
    "    missionaries and cannibles in th boat they will\n",
    "    be reduced from the right side\n",
    "    \n",
    "```     \n",
    "    \n",
    "```\n",
    "    Similarly on the left side count for number of\n",
    "    missionaries and cannibals will increase.\n",
    "        \n",
    "```\n",
    "    \n",
    "    \n",
    "```\n",
    "    Display your game board in the same format as above like\n",
    "    \n",
    "        M = 0 C = 0  |-----B|  M = 3 C = 3\n",
    "\n",
    "    Check the side of the Boat!!\n",
    "\n",
    "```\n",
    "\n",
    "\n",
    "```\n",
    "    Now we are done for the right side so lets change value of its variable\n",
    "\n",
    "```\n",
    "\n",
    "elif boat_side == \"Left\":\n",
    "    Inside the scope of if statement for left side    \n",
    "```\n",
    "    Now check if count for missionaries or cannibals on the right\n",
    "    side are less than the number that you entered for\n",
    "    adding to boat if not print \"Invalid move\".\n",
    "    \n",
    "```\n",
    "       \n",
    "```\n",
    "    Now when boad is on the left side after adding\n",
    "    missionaries and cannibles in th boat they will\n",
    "    be reduced from the left side.\n",
    "\n",
    "```    \n",
    "   \n",
    "```\n",
    "    Similarly on the right side count for number of\n",
    "    missionaries and cannibals will increase.\n",
    "```\n",
    "    \n",
    "    \n",
    "```\n",
    "    Display your game board in the same format as above like\n",
    "    \n",
    "    M = 0 C = 0  |-----B|  M = 3 C = 3\n",
    "\n",
    "    Check the side of the Boat!!\n",
    "```\n",
    "   \n",
    "    \n",
    "```\n",
    "    Now we are done for the right side so lets change value of its variable\n",
    "```"
   ]
  },
  {
   "cell_type": "markdown",
   "metadata": {
    "id": "nBwBU-ynuJ83"
   },
   "source": [
    "\n",
    "Now add conditions to check if the game is over:\n",
    "1. If number of missionaries is less that number of cannibals on right side and\n",
    "   number of missionaries are greater than zero.\n",
    "2. If number of missionaries is less that number of cannibals on left side and\n",
    "   number of missionaries are greater than zero.\n",
    "3. If over print 'YOU LOSE'\n"
   ]
  },
  {
   "cell_type": "code",
   "execution_count": null,
   "metadata": {
    "id": "Lj8QGUKcuJ83"
   },
   "outputs": [],
   "source": [
    "### Your code ###\n",
    "if ((missionaries_on_right < cannibals_on_right) and (missionaries_on_right > 0)) or ((missionaries_on_left < cannibals_on_left) and (missionaries_on_left > 0)):\n",
    "  print('YOU LOSE')"
   ]
  },
  {
   "cell_type": "markdown",
   "metadata": {
    "id": "dtS1OoJZuJ83"
   },
   "source": [
    "Add conditions to check if you have won the game:\n",
    "1. Number of missionaries and cannibals on the left side should be equal to 3.\n",
    "2. If condition matches print 'YOU WIN'."
   ]
  },
  {
   "cell_type": "code",
   "execution_count": null,
   "metadata": {
    "id": "NiFhhS1OuJ84"
   },
   "outputs": [],
   "source": [
    "### Your code ###\n",
    "if (missionaries_on_left and cannibals_on_left) == 3:\n",
    "  print('YOU WIN')"
   ]
  },
  {
   "cell_type": "markdown",
   "metadata": {
    "id": "bNhu9DIEuJ84"
   },
   "source": [
    "## Lesson 3"
   ]
  },
  {
   "cell_type": "markdown",
   "metadata": {
    "id": "Y6-oGZvGuJ84"
   },
   "source": [
    "The game must go on until you win or lose so lets put all conditions inside the infinite loop\n",
    "1. Now for all conditions make appropriate changes.\n",
    "2. If a move is invalid then without making any changes in the board you have to 'continue'.\n",
    "   So make changes in all the conditions.\n",
    "3. Now, if you Win or Lose the game 'break' the loop and get out of it.\n",
    "4. After getting out of the loop print \"Game Over\"."
   ]
  },
  {
   "cell_type": "code",
   "execution_count": null,
   "metadata": {
    "colab": {
     "base_uri": "https://localhost:8080/"
    },
    "id": "GZyh0fNtuJ84",
    "outputId": "1c20980e-3e9f-47b6-8459-75088f889f6f"
   },
   "outputs": [
    {
     "name": "stdout",
     "output_type": "stream",
     "text": [
      "Right Side\n",
      "M = 0 C = 0|-----B|M = 3 C = 3\n",
      "ENTER THE NUMBER OF MISSIONARIES ON BOAT: 0\n",
      "ENTER THE NUMBER OF CANNIBALS BOAT: 2\n",
      "M = 0 C = 2|B-----|M = 3 C = 1\n",
      "ENTER THE NUMBER OF MISSIONARIES ON BOAT: 0\n",
      "ENTER THE NUMBER OF CANNIBALS BOAT: 1\n",
      "M = 0 C = 1|-----B|M = 3 C = 2\n",
      "ENTER THE NUMBER OF MISSIONARIES ON BOAT: 0\n",
      "ENTER THE NUMBER OF CANNIBALS BOAT: 2\n",
      "M = 0 C = 3|B-----|M = 3 C = 0\n",
      "ENTER THE NUMBER OF MISSIONARIES ON BOAT: 0\n",
      "ENTER THE NUMBER OF CANNIBALS BOAT: 1\n",
      "M = 0 C = 2|-----B|M = 3 C = 1\n",
      "ENTER THE NUMBER OF MISSIONARIES ON BOAT: 2\n",
      "ENTER THE NUMBER OF CANNIBALS BOAT: 0\n",
      "M = 2 C = 2|B-----|M = 1 C = 1\n",
      "ENTER THE NUMBER OF MISSIONARIES ON BOAT: 1\n",
      "ENTER THE NUMBER OF CANNIBALS BOAT: 1\n",
      "M = 1 C = 1|-----B|M = 2 C = 2\n",
      "ENTER THE NUMBER OF MISSIONARIES ON BOAT: 2\n",
      "ENTER THE NUMBER OF CANNIBALS BOAT: 0\n",
      "M = 3 C = 1|B-----|M = 0 C = 2\n",
      "ENTER THE NUMBER OF MISSIONARIES ON BOAT: 0\n",
      "ENTER THE NUMBER OF CANNIBALS BOAT: 1\n",
      "M = 3 C = 0|-----B|M = 0 C = 3\n",
      "ENTER THE NUMBER OF MISSIONARIES ON BOAT: 0\n",
      "ENTER THE NUMBER OF CANNIBALS BOAT: 2\n",
      "M = 3 C = 2|B-----|M = 0 C = 1\n",
      "ENTER THE NUMBER OF MISSIONARIES ON BOAT: 0\n",
      "ENTER THE NUMBER OF CANNIBALS BOAT: 1\n",
      "M = 3 C = 1|-----B|M = 0 C = 2\n",
      "ENTER THE NUMBER OF MISSIONARIES ON BOAT: 0\n",
      "ENTER THE NUMBER OF CANNIBALS BOAT: 2\n",
      "M = 3 C = 3|B-----|M = 0 C = 0\n",
      "YOU WIN\n",
      "GAME OVER\n"
     ]
    }
   ],
   "source": [
    "### Your code ###\n",
    "boat_side = 'Right'\n",
    "missionaries_on_right = 3\n",
    "cannibals_on_right = 3\n",
    "missionaries_on_left = 0\n",
    "cannibals_on_left = 0\n",
    "\n",
    "print('Right Side')\n",
    "print('M = '+str(missionaries_on_left) +' C = ' + str(cannibals_on_left) + '|-----B|' + 'M = ' + str(missionaries_on_right) + ' C = ' +str(cannibals_on_right))\n",
    "\n",
    "while True:\n",
    "\n",
    "  ## BOAT ON RIGHT SIDE\n",
    "  if boat_side == 'Right':\n",
    "\n",
    "    missionaries = int(input('ENTER THE NUMBER OF MISSIONARIES ON BOAT: '))\n",
    "    cannibals = int(input('ENTER THE NUMBER OF CANNIBALS BOAT: '))\n",
    "\n",
    "    if (missionaries + cannibals)<0 or (missionaries + cannibals)>2:\n",
    "      print('Invalid Move 1')\n",
    "      continue\n",
    "    else:\n",
    "      if (missionaries_on_right < missionaries) or (cannibals_on_right < cannibals):\n",
    "        print('Invalid Move 2')\n",
    "        continue\n",
    "\n",
    "      else:\n",
    "        cannibals_on_right -= cannibals\n",
    "        missionaries_on_right -= missionaries\n",
    "        cannibals_on_left += cannibals\n",
    "        missionaries_on_left += missionaries\n",
    "\n",
    "        print('M = '+str(missionaries_on_left) +' C = ' + str(cannibals_on_left) + '|B-----|' + 'M = ' + str(missionaries_on_right) + ' C = ' +str(cannibals_on_right))\n",
    "        boat_side = 'Left'\n",
    "\n",
    "  ## BOAT ON LEFT SIDE\n",
    "  elif boat_side == 'Left':\n",
    "\n",
    "    missionaries = int(input('ENTER THE NUMBER OF MISSIONARIES ON BOAT: '))\n",
    "    cannibals = int(input('ENTER THE NUMBER OF CANNIBALS BOAT: '))\n",
    "\n",
    "    if (missionaries + cannibals) < 0 or (missionaries + cannibals) > 2 :\n",
    "      print('Invalid Move 1')\n",
    "      continue\n",
    "    else:\n",
    "      if (missionaries_on_left < missionaries) or (cannibals_on_left < cannibals):\n",
    "        print('Invalid Move 2')\n",
    "        continue\n",
    "      else:\n",
    "        cannibals_on_left -= cannibals\n",
    "        missionaries_on_left -= missionaries\n",
    "        cannibals_on_right += cannibals\n",
    "        missionaries_on_right += missionaries\n",
    "\n",
    "        print('M = '+str(missionaries_on_left) +' C = ' + str(cannibals_on_left) + '|-----B|' + 'M = ' + str(missionaries_on_right) + ' C = ' +str(cannibals_on_right))\n",
    "        boat_side = 'Right'\n",
    "\n",
    "  ### GAME RESULT\n",
    "  if ((missionaries_on_right < cannibals_on_right) and (missionaries_on_right > 0)) or ((missionaries_on_left < cannibals_on_left) and (missionaries_on_left > 0)):\n",
    "    print('YOU LOSE')\n",
    "    break\n",
    "\n",
    "  elif (missionaries_on_left and cannibals_on_left) == 3:\n",
    "    print('YOU WIN')\n",
    "    break\n",
    "\n",
    "print('GAME OVER')"
   ]
  },
  {
   "cell_type": "markdown",
   "metadata": {
    "id": "3UeknsGCuJ85"
   },
   "source": [
    "## Clear the screen\n",
    "1. Copy the following at the top of your code: <br>\n",
    "`from IPython.display import clear_output`\n",
    "2. Now after taking input we want to clear the whole screen. Therefore add following function right before displaying output:<br>\n",
    "`clear_output()`\n",
    "\n",
    "**Algorithm with `clear_output()`**"
   ]
  },
  {
   "cell_type": "markdown",
   "metadata": {
    "id": "9JivVHB_uJ86"
   },
   "source": [
    "Variable declaration\n",
    "\n",
    "Initial display\n",
    "\n",
    "```\n",
    "    While loop:\n",
    "        taking inputs for inmber of missionaries and cannibals\n",
    "        \n",
    "        if right:\n",
    "            all conditions and operations\n",
    "            ## Here add the function as ##\n",
    "            clear_output()\n",
    "            display output\n",
    "        else:\n",
    "            all conditions and operations\n",
    "            ## Here add the function as ##\n",
    "            clear_output()\n",
    "            display output\n",
    "        \n",
    "```"
   ]
  },
  {
   "cell_type": "markdown",
   "metadata": {
    "id": "N6flWROKuJ86"
   },
   "source": [
    "##  Let's make it pretty!\n",
    "\n",
    "1. Use the power of unicodes and use emojis\n",
    "2. Use for loops\n",
    "3. Hint: Just like before add everything in a string and just print the string\n",
    "\n",
    "**The output should look like this after making all changes**\n",
    "\n",
    "|🌊🌊🌊🌊🌊🚢|💂💂💂👹👹👹\n",
    "<br>\n",
    "After the first move, if we input 1 missionary and 1 cannibal the output will be:\n",
    "\n",
    "💂👹|🌊🌊🌊🌊🌊🚢|💂💂👹👹\n",
    "\n",
    "##### Unicodes\n",
    "💂 = '\\U0001f482'\n",
    "👹 = '\\U0001f479'\n",
    "🌊 = '\\U0001f30a'\n",
    "🚢 = '\\U0001f6A2'"
   ]
  },
  {
   "cell_type": "code",
   "execution_count": null,
   "metadata": {
    "colab": {
     "base_uri": "https://localhost:8080/"
    },
    "id": "THdVwvfSuJ87",
    "outputId": "b0f5e188-a99c-41f1-8e24-b7a84b975cce"
   },
   "outputs": [
    {
     "name": "stdout",
     "output_type": "stream",
     "text": [
      "💂💂💂\n",
      "👹👹👹\n",
      "🌊🌊🌊🌊\n",
      "🚢\n",
      "\n",
      "\n"
     ]
    }
   ],
   "source": [
    "# Print in extra stylish manner\n",
    "\n",
    "# Display the number of missionaries based on their count on the left side using string replication\n",
    "### Your code ###\n",
    "print('\\U0001f482'*missionaries_on_left)\n",
    "\n",
    "# Display the number of cannibals based on their count on the left side using string replication\n",
    "### Your code ###\n",
    "print('\\U0001f479'*cannibals_on_left)\n",
    "\n",
    "# Display the waves emoji for 4 times using string replication\n",
    "### Your code ###\n",
    "print('\\U0001f30a'*4)\n",
    "\n",
    "# Display the boat using string replication\n",
    "### Your code ###\n",
    "print('\\U0001f6A2'*1)\n",
    "\n",
    "# Display the number of missionaries based on their count on the right side using string replication\n",
    "### Your code ###\n",
    "print('\\U0001f482'*missionaries_on_right)\n",
    "\n",
    "# Display the number of cannibals based on their count on the right side using string replication\n",
    "### Your code ###\n",
    "print('\\U0001f479'*cannibals_on_right)"
   ]
  },
  {
   "cell_type": "markdown",
   "metadata": {
    "id": "Okje8bnYuJ87"
   },
   "source": [
    "#### Complete code after lesson 3"
   ]
  },
  {
   "cell_type": "code",
   "execution_count": null,
   "metadata": {
    "colab": {
     "background_save": true,
     "base_uri": "https://localhost:8080/"
    },
    "id": "7sNJvE22uJ87",
    "outputId": "d21e75ac-fa71-4fc5-a463-cc03d9707485"
   },
   "outputs": [
    {
     "name": "stdout",
     "output_type": "stream",
     "text": [
      "Right Side\n",
      "  🌊🌊🌊🌊 🚢 💂💂💂 👹👹👹\n"
     ]
    }
   ],
   "source": [
    " ### Your code ###\n",
    "from IPython.display import clear_output\n",
    "\n",
    "boat_side = 'Right'\n",
    "missionaries_on_right = 3\n",
    "cannibals_on_right = 3\n",
    "missionaries_on_left = 0\n",
    "cannibals_on_left = 0\n",
    "\n",
    "print('Right Side')\n",
    "print('\\U0001f482'*missionaries_on_left,'\\U0001f479'*cannibals_on_left,'\\U0001f30a'*4,\n",
    "      '\\U0001f6A2'*1,'\\U0001f482'*missionaries_on_right,'\\U0001f479'*cannibals_on_right)\n",
    "\n",
    "while True:\n",
    "\n",
    "  ## BOAT ON RIGHT SIDE\n",
    "  if boat_side == 'Right':\n",
    "\n",
    "    missionaries = int(input('ENTER THE NUMBER OF MISSIONARIES ON BOAT: '))\n",
    "    cannibals = int(input('ENTER THE NUMBER OF CANNIBALS BOAT: '))\n",
    "\n",
    "    if (missionaries + cannibals)<0 or (missionaries + cannibals) > 2 :\n",
    "      print('Invalid Move 1')\n",
    "      continue\n",
    "    else:\n",
    "      if (missionaries_on_right < missionaries) or (cannibals_on_right < cannibals):\n",
    "        print('Invalid Move 2')\n",
    "        continue\n",
    "\n",
    "      else:\n",
    "        cannibals_on_right -= cannibals;missionaries_on_right -= missionaries\n",
    "        cannibals_on_left += cannibals;missionaries_on_left += missionaries\n",
    "        clear_output()\n",
    "        print('\\U0001f482'*missionaries_on_left,'\\U0001f479'*cannibals_on_left,'\\U0001f6A2'*1,\n",
    "              '\\U0001f30a'*4,'\\U0001f482'*missionaries_on_right,'\\U0001f479'*cannibals_on_right)\n",
    "        boat_side = 'Left'\n",
    "\n",
    "  ## BOAT ON LEFT SIDE\n",
    "  elif boat_side == 'Left':\n",
    "\n",
    "    missionaries = int(input('ENTER THE NUMBER OF MISSIONARIES ON BOAT: '))\n",
    "    cannibals = int(input('ENTER THE NUMBER OF CANNIBALS BOAT: '))\n",
    "\n",
    "    if (missionaries + cannibals) < 0 or (missionaries + cannibals) > 2:\n",
    "      print('Invalid Move 1')\n",
    "      continue\n",
    "    else:\n",
    "      if (missionaries_on_left < missionaries) or (cannibals_on_left < cannibals):\n",
    "        print('Invalid Move 2')\n",
    "        continue\n",
    "      else:\n",
    "        cannibals_on_left -= cannibals;missionaries_on_left -= missionaries\n",
    "        cannibals_on_right += cannibals;missionaries_on_right += missionaries\n",
    "        clear_output()\n",
    "        print('\\U0001f482'*missionaries_on_left,'\\U0001f479'*cannibals_on_left,'\\U0001f30a'*4,\n",
    "              '\\U0001f6A2'*1,'\\U0001f482'*missionaries_on_right,'\\U0001f479'*cannibals_on_right)\n",
    "        boat_side = 'Right'\n",
    "\n",
    "  ### GAME RESULT\n",
    "  if ((missionaries_on_right < cannibals_on_right) and (missionaries_on_right > 0)) or ((missionaries_on_left < cannibals_on_left) and (missionaries_on_left > 0)):\n",
    "    print('YOU LOSE')\n",
    "    break\n",
    "\n",
    "  elif (missionaries_on_left and cannibals_on_left) == 3:\n",
    "    print('YOU WIN')\n",
    "    break\n",
    "\n",
    "print('GAME OVER')"
   ]
  },
  {
   "cell_type": "markdown",
   "metadata": {
    "id": "IFFQHwZVuJ88"
   },
   "source": [
    "## Lesson 4"
   ]
  },
  {
   "cell_type": "markdown",
   "metadata": {
    "id": "RrAONknFuJ88"
   },
   "source": [
    "## Remove repetitive code\n",
    "\n",
    "**Use functions to remove the repetitions**"
   ]
  },
  {
   "cell_type": "markdown",
   "metadata": {
    "id": "4WnB5LwiuJ88"
   },
   "source": [
    "### Function definition\n",
    "Create a function `display`.\n",
    "Copy the current display logic in the function.\n",
    "\n",
    "\n",
    "### Inside function definition\n",
    "1. Code to display people on the left.\n",
    "2. Check the side of the boat and accordingly change its display position in the code (use if else).\n",
    "3. Code to display people on the right side."
   ]
  },
  {
   "cell_type": "code",
   "execution_count": null,
   "metadata": {
    "id": "hn_0eVWouJ88"
   },
   "outputs": [],
   "source": [
    " ### Your code ###\n",
    "\n",
    "boat_side = 'Right'\n",
    "missionaries_on_right = 3\n",
    "cannibals_on_right = 3\n",
    "missionaries_on_left = 0\n",
    "cannibals_on_left = 0\n",
    "\n",
    "\n",
    "while True:\n",
    "\n",
    "  ## BOAT ON RIGHT SIDE\n",
    "  if boat_side == 'Right':\n",
    "\n",
    "    missionaries = int(input('ENTER THE NUMBER OF MISSIONARIES ON BOAT: '))\n",
    "    cannibals = int(input('ENTER THE NUMBER OF CANNIBALS BOAT: '))\n",
    "\n",
    "    if (missionaries + cannibals)<0 or (missionaries + cannibals) > 2 :\n",
    "      print('Invalid Move 1')\n",
    "      continue\n",
    "    else:\n",
    "      if (missionaries_on_right < missionaries) or (cannibals_on_right < cannibals):\n",
    "        print('Invalid Move 2')\n",
    "        continue\n",
    "\n",
    "      else:\n",
    "        cannibals_on_right -= cannibals;missionaries_on_right -= missionaries\n",
    "        cannibals_on_left += cannibals;missionaries_on_left += missionaries\n",
    "        clear_output()\n",
    "        boat_side = 'Left'\n",
    "\n",
    "  ## BOAT ON LEFT SIDE\n",
    "  elif boat_side == 'Left':\n",
    "\n",
    "    missionaries = int(input('ENTER THE NUMBER OF MISSIONARIES ON BOAT: '))\n",
    "    cannibals = int(input('ENTER THE NUMBER OF CANNIBALS BOAT: '))\n",
    "\n",
    "    if (missionaries + cannibals) < 0 or (missionaries + cannibals) > 2:\n",
    "      print('Invalid Move 1')\n",
    "      continue\n",
    "    else:\n",
    "      if (missionaries_on_left < missionaries) or (cannibals_on_left < cannibals):\n",
    "        print('Invalid Move 2')\n",
    "        continue\n",
    "      else:\n",
    "        cannibals_on_left -= cannibals;missionaries_on_left -= missionaries\n",
    "        cannibals_on_right += cannibals;missionaries_on_right += missionaries\n",
    "        clear_output()\n",
    "        boat_side = 'Right'\n",
    "\n"
   ]
  }
 ],
 "metadata": {
  "colab": {
   "provenance": []
  },
  "kernelspec": {
   "display_name": "Python 3",
   "language": "python",
   "name": "python3"
  },
  "language_info": {
   "codemirror_mode": {
    "name": "ipython",
    "version": 3
   },
   "file_extension": ".py",
   "mimetype": "text/x-python",
   "name": "python",
   "nbconvert_exporter": "python",
   "pygments_lexer": "ipython3",
   "version": "3.8.3"
  },
  "toc": {
   "base_numbering": 1,
   "nav_menu": {},
   "number_sections": true,
   "sideBar": true,
   "skip_h1_title": false,
   "title_cell": "Table of Contents",
   "title_sidebar": "Contents",
   "toc_cell": false,
   "toc_position": {},
   "toc_section_display": true,
   "toc_window_display": false
  }
 },
 "nbformat": 4,
 "nbformat_minor": 0
}
